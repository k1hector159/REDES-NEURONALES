{
  "nbformat": 4,
  "nbformat_minor": 0,
  "metadata": {
    "colab": {
      "name": "RENDICION ACADEMICO RN.ipynb",
      "provenance": [],
      "collapsed_sections": [],
      "include_colab_link": true
    },
    "kernelspec": {
      "name": "python3",
      "display_name": "Python 3"
    },
    "language_info": {
      "name": "python"
    }
  },
  "cells": [
    {
      "cell_type": "markdown",
      "metadata": {
        "id": "view-in-github",
        "colab_type": "text"
      },
      "source": [
        "<a href=\"https://colab.research.google.com/github/k1hector159/REDES-NEURONALES/blob/ALFREDO/COMPUTACION-EN-LA-NUBE/RENDICION_ACADEMICO_RN.ipynb\" target=\"_parent\"><img src=\"https://colab.research.google.com/assets/colab-badge.svg\" alt=\"Open In Colab\"/></a>"
      ]
    },
    {
      "cell_type": "markdown",
      "source": [
        "***TRABAJO DE COMPUTACION EN LA NUBE***"
      ],
      "metadata": {
        "id": "Zl_fEG3iPHJX"
      }
    },
    {
      "cell_type": "code",
      "execution_count": null,
      "metadata": {
        "id": "OocVjsPpLI4j"
      },
      "outputs": [],
      "source": [
        ""
      ]
    }
  ]
}